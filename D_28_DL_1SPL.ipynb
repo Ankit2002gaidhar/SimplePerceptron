{
  "nbformat": 4,
  "nbformat_minor": 0,
  "metadata": {
    "colab": {
      "provenance": []
    },
    "kernelspec": {
      "name": "python3",
      "display_name": "Python 3"
    },
    "language_info": {
      "name": "python"
    }
  },
  "cells": [
    {
      "cell_type": "markdown",
      "source": [
        "Practical 1"
      ],
      "metadata": {
        "id": "YPtnJIAkxx_D"
      }
    },
    {
      "cell_type": "markdown",
      "source": [
        "Implementation of Single Perceptron and Creation of Logic Gates"
      ],
      "metadata": {
        "id": "5mvIW1_5xozL"
      }
    },
    {
      "cell_type": "markdown",
      "source": [
        "1. Single Perceptron Implementation:\n",
        "1] Write a Python script to implement a single perceptron.\n",
        "2] Include functions for initializing weights and bias, calculating the weighted\n",
        "sum, applying activation function (e.g., step function)\n",
        "3] Test the perceptron on a simple binary classification problem."
      ],
      "metadata": {
        "id": "m1smF_ENzJa6"
      }
    },
    {
      "cell_type": "code",
      "execution_count": 11,
      "metadata": {
        "id": "3fThWBitp7BY"
      },
      "outputs": [],
      "source": [
        "x_inputs=[0.1,0.5,0.2]\n",
        "w_weights=[0.4,0.3,0.6]\n",
        "threshold=0.5\n"
      ]
    },
    {
      "cell_type": "code",
      "source": [
        "def step(weighted_sum):\n",
        "  if(weighted_sum>=threshold):\n",
        "    return 1\n",
        "  else:\n",
        "    return 0\n"
      ],
      "metadata": {
        "id": "IL1nQ27dqazV"
      },
      "execution_count": 13,
      "outputs": []
    },
    {
      "cell_type": "code",
      "source": [
        "def perceptron():\n",
        "  weighted_sum=0\n",
        "  for x,w in zip(x_inputs,w_weights):\n",
        "     weighted_sum+=x*w\n",
        "     print(weighted_sum)\n",
        "  return step(weighted_sum)"
      ],
      "metadata": {
        "id": "YNb10j27qm85"
      },
      "execution_count": 14,
      "outputs": []
    },
    {
      "cell_type": "code",
      "source": [
        "output=perceptron()\n",
        "print(\"Output=\",output)"
      ],
      "metadata": {
        "colab": {
          "base_uri": "https://localhost:8080/"
        },
        "id": "6dy4VBB8rQbz",
        "outputId": "6db2d544-1c3e-40be-ccaf-a3ae0ed500db"
      },
      "execution_count": 15,
      "outputs": [
        {
          "output_type": "stream",
          "name": "stdout",
          "text": [
            "0.04000000000000001\n",
            "0.19\n",
            "0.31\n",
            "Output= 0\n"
          ]
        }
      ]
    },
    {
      "cell_type": "code",
      "source": [
        "x_inputs=[0.1,0.5,0.2]\n",
        "w_weights=[0.6,0.7,0.6]\n",
        "threshold=0.5\n"
      ],
      "metadata": {
        "id": "6wcggSLcrXOa"
      },
      "execution_count": 16,
      "outputs": []
    },
    {
      "cell_type": "code",
      "source": [
        "output=perceptron()\n",
        "print(\"output=\",output)"
      ],
      "metadata": {
        "colab": {
          "base_uri": "https://localhost:8080/"
        },
        "id": "gdSd1lDOsNSj",
        "outputId": "6df6027b-266b-4a93-b70c-072d3d90dbce"
      },
      "execution_count": 17,
      "outputs": [
        {
          "output_type": "stream",
          "name": "stdout",
          "text": [
            "0.06\n",
            "0.41\n",
            "0.53\n",
            "output= 1\n"
          ]
        }
      ]
    },
    {
      "cell_type": "markdown",
      "source": [
        "2. Creation of Logic Gates:\n",
        "1] Use the single perceptron to create logic gates (AND, OR, NOT).\n",
        "2] Define the input patterns for each gate and train the perceptron to produce the correct output.\n",
        "3] Evaluate the trained perceptron on different inputs to verify its behavior."
      ],
      "metadata": {
        "id": "I6LpScCDyibe"
      }
    },
    {
      "cell_type": "code",
      "source": [
        "import numpy as np\n",
        "import pandas as pd\n",
        "from sklearn.linear_model import Perceptron"
      ],
      "metadata": {
        "id": "7bfspvAjsa4q"
      },
      "execution_count": 9,
      "outputs": []
    },
    {
      "cell_type": "code",
      "source": [
        "#AND GATE\n",
        "def perceptron(x_input, x_weight, threshold):\n",
        "    weighted_sum = 0\n",
        "    for x, w in zip(x_input, x_weight):\n",
        "        weighted_sum += x * w\n",
        "    return step(weighted_sum, threshold)\n",
        "\n",
        "def step(weight_sum, threshold):\n",
        "    if weight_sum > threshold:\n",
        "        return 1\n",
        "    else:\n",
        "        return 0\n",
        "\n",
        "and_gate_inputs = [\n",
        "    [0, 0],\n",
        "    [0, 1],\n",
        "    [1, 0],\n",
        "    [1, 1]\n",
        "]\n",
        "\n",
        "and_gate_weights = [1,1]\n",
        "and_gate_threshold = 1\n",
        "\n",
        "for inputs in and_gate_inputs:\n",
        "    output = perceptron(inputs, and_gate_weights, and_gate_threshold)\n",
        "    print(f\"Inputs: {inputs}, Output: {output}\")"
      ],
      "metadata": {
        "colab": {
          "base_uri": "https://localhost:8080/"
        },
        "id": "YEYeTTE-QWgw",
        "outputId": "f5bc084a-b416-4599-8be5-c056d7075f07"
      },
      "execution_count": 18,
      "outputs": [
        {
          "output_type": "stream",
          "name": "stdout",
          "text": [
            "Inputs: [0, 0], Output: 0\n",
            "Inputs: [0, 1], Output: 0\n",
            "Inputs: [1, 0], Output: 0\n",
            "Inputs: [1, 1], Output: 1\n"
          ]
        }
      ]
    },
    {
      "cell_type": "code",
      "source": [
        "#OR GATE\n",
        "def perceptron(x_input, x_weight, threshold):\n",
        "    weighted_sum = 0\n",
        "    for x, w in zip(x_input, x_weight):\n",
        "        weighted_sum += x * w\n",
        "    return step(weighted_sum, threshold)\n",
        "\n",
        "def step(weight_sum, threshold):\n",
        "    if weight_sum >= threshold:\n",
        "        return 1\n",
        "    else:\n",
        "        return 0\n",
        "\n",
        "or_gate_inputs = [\n",
        "    [0, 0],\n",
        "    [0, 1],\n",
        "    [1, 0],\n",
        "    [1, 1]\n",
        "]\n",
        "\n",
        "or_gate_weights = [1,1]\n",
        "\n",
        "or_gate_threshold = 1\n",
        "\n",
        "\n",
        "for inputs in and_gate_inputs:\n",
        "    output = perceptron(inputs, or_gate_weights, or_gate_threshold)\n",
        "    print(f\"Inputs: {inputs}, Output: {output}\")\n"
      ],
      "metadata": {
        "colab": {
          "base_uri": "https://localhost:8080/"
        },
        "id": "zckefuCxTx_P",
        "outputId": "5f3dddf0-5229-4c49-fe90-e55998c1cc11"
      },
      "execution_count": 19,
      "outputs": [
        {
          "output_type": "stream",
          "name": "stdout",
          "text": [
            "Inputs: [0, 0], Output: 0\n",
            "Inputs: [0, 1], Output: 1\n",
            "Inputs: [1, 0], Output: 1\n",
            "Inputs: [1, 1], Output: 1\n"
          ]
        }
      ]
    },
    {
      "cell_type": "code",
      "source": [
        "#NAND GATE\n",
        "def perceptron(x_input, x_weight, threshold):\n",
        "    weighted_sum = 0\n",
        "    for x, w in zip(x_input, x_weight):\n",
        "        weighted_sum += x * w\n",
        "    return step(weighted_sum, threshold)\n",
        "\n",
        "def step(weight_sum, threshold):\n",
        "    if weight_sum > threshold:\n",
        "        return 0\n",
        "    else:\n",
        "        return 1\n",
        "\n",
        "nand_gate_inputs = [\n",
        "    [0, 0],\n",
        "    [0, 1],\n",
        "    [1, 0],\n",
        "    [1, 1]\n",
        "]\n",
        "\n",
        "nand_gate_weights = [1,1]\n",
        "\n",
        "nand_gate_threshold = 1\n",
        "\n",
        "\n",
        "for inputs in and_gate_inputs:\n",
        "    output = perceptron(inputs, nand_gate_weights, nand_gate_threshold)\n",
        "    print(f\"Inputs: {inputs}, Output: {output}\")\n"
      ],
      "metadata": {
        "colab": {
          "base_uri": "https://localhost:8080/"
        },
        "id": "jFF2KgCGT2eG",
        "outputId": "c3939223-786e-4a55-c71d-9a37d17e0ea3"
      },
      "execution_count": 20,
      "outputs": [
        {
          "output_type": "stream",
          "name": "stdout",
          "text": [
            "Inputs: [0, 0], Output: 1\n",
            "Inputs: [0, 1], Output: 1\n",
            "Inputs: [1, 0], Output: 1\n",
            "Inputs: [1, 1], Output: 0\n"
          ]
        }
      ]
    },
    {
      "cell_type": "code",
      "source": [
        "#NOR GATE\n",
        "def perceptron(x_input, x_weight, threshold):\n",
        "    weighted_sum = 0\n",
        "    for x, w in zip(x_input, x_weight):\n",
        "        weighted_sum += x * w\n",
        "    return step(weighted_sum, threshold)\n",
        "\n",
        "def step(weight_sum, threshold):\n",
        "    if weight_sum >= threshold:\n",
        "        return 0\n",
        "    else:\n",
        "        return 1\n",
        "\n",
        "nor_gate_inputs = [\n",
        "    [0, 0],\n",
        "    [0, 1],\n",
        "    [1, 0],\n",
        "    [1, 1]\n",
        "]\n",
        "\n",
        "nor_gate_weights = [1,1]\n",
        "\n",
        "nor_gate_threshold = 1\n",
        "\n",
        "\n",
        "for inputs in and_gate_inputs:\n",
        "    output = perceptron(inputs, nor_gate_weights, nor_gate_threshold)\n",
        "    print(f\"Inputs: {inputs}, Output: {output}\")\n"
      ],
      "metadata": {
        "colab": {
          "base_uri": "https://localhost:8080/"
        },
        "id": "Z0s15pQyUTmV",
        "outputId": "cd3481fe-8ee6-4aea-f8aa-8a301a9293c3"
      },
      "execution_count": 21,
      "outputs": [
        {
          "output_type": "stream",
          "name": "stdout",
          "text": [
            "Inputs: [0, 0], Output: 1\n",
            "Inputs: [0, 1], Output: 0\n",
            "Inputs: [1, 0], Output: 0\n",
            "Inputs: [1, 1], Output: 0\n"
          ]
        }
      ]
    },
    {
      "cell_type": "code",
      "source": [
        "#XOR GATE\n",
        "def perceptron(x_input, x_weight, threshold):\n",
        "    weighted_sum = 0\n",
        "    for x, w in zip(x_input, x_weight):\n",
        "        weighted_sum += x * w\n",
        "    return step(weighted_sum, threshold)\n",
        "\n",
        "def step(weight_sum, threshold):\n",
        "    if weight_sum == threshold:\n",
        "        return 1\n",
        "    else:\n",
        "        return 0\n",
        "\n",
        "xor_gate_inputs = [\n",
        "    [0, 0],\n",
        "    [0, 1],\n",
        "    [1, 0],\n",
        "    [1, 1]\n",
        "]\n",
        "\n",
        "xor_gate_weights = [1,1]\n",
        "\n",
        "xor_gate_threshold = 1\n",
        "\n",
        "\n",
        "for inputs in and_gate_inputs:\n",
        "    output = perceptron(inputs, xor_gate_weights, xor_gate_threshold)\n",
        "    print(f\"Inputs: {inputs}, Output: {output}\")\n"
      ],
      "metadata": {
        "colab": {
          "base_uri": "https://localhost:8080/"
        },
        "id": "K0uDWyW-UfVt",
        "outputId": "3f85f98c-ae7e-47c3-8a62-a9979c422df1"
      },
      "execution_count": 22,
      "outputs": [
        {
          "output_type": "stream",
          "name": "stdout",
          "text": [
            "Inputs: [0, 0], Output: 0\n",
            "Inputs: [0, 1], Output: 1\n",
            "Inputs: [1, 0], Output: 1\n",
            "Inputs: [1, 1], Output: 0\n"
          ]
        }
      ]
    },
    {
      "cell_type": "code",
      "source": [
        "#XNOR gate\n",
        "def perceptron(x_input, x_weight, threshold):\n",
        "    weighted_sum = 0\n",
        "    for x, w in zip(x_input, x_weight):\n",
        "        weighted_sum += x * w\n",
        "    return step(weighted_sum, threshold)\n",
        "\n",
        "def step(weight_sum, threshold):\n",
        "    if weight_sum == threshold:\n",
        "        return 0\n",
        "    else:\n",
        "        return 1\n",
        "\n",
        "xnor_gate_inputs = [\n",
        "    [0, 0],\n",
        "    [0, 1],\n",
        "    [1, 0],\n",
        "    [1, 1]\n",
        "]\n",
        "\n",
        "xnor_gate_weights = [1,1]\n",
        "\n",
        "xnor_gate_threshold = 1\n",
        "\n",
        "\n",
        "for inputs in xnor_gate_inputs:\n",
        "    output = perceptron(inputs, xnor_gate_weights, xnor_gate_threshold)\n",
        "    print(f\"Inputs: {inputs}, Output: {output}\")\n"
      ],
      "metadata": {
        "colab": {
          "base_uri": "https://localhost:8080/"
        },
        "id": "UGWlzufMU8cY",
        "outputId": "b1fa23da-11e8-44f8-ad42-3203594c4896"
      },
      "execution_count": 23,
      "outputs": [
        {
          "output_type": "stream",
          "name": "stdout",
          "text": [
            "Inputs: [0, 0], Output: 1\n",
            "Inputs: [0, 1], Output: 0\n",
            "Inputs: [1, 0], Output: 0\n",
            "Inputs: [1, 1], Output: 1\n"
          ]
        }
      ]
    },
    {
      "cell_type": "code",
      "source": [
        "#not gate\n",
        "\n",
        "def perceptron(x_input, x_weight, threshold):\n",
        "    weighted_sum = 0\n",
        "    for x, w in zip(x_input, x_weight):\n",
        "        weighted_sum += x * w+threshold\n",
        "    return step(weighted_sum, threshold)\n",
        "\n",
        "def step(weight_sum, threshold):\n",
        "    if weight_sum == threshold:\n",
        "        return 1\n",
        "    else:\n",
        "        return 0\n",
        "\n",
        "not_gate_inputs = [\n",
        "    [0],\n",
        "    [1]\n",
        "]\n",
        "\n",
        "xnor_gate_weights = [1]\n",
        "\n",
        "xnor_gate_threshold = 1\n",
        "\n",
        "\n",
        "for inputs in not_gate_inputs:\n",
        "    output = perceptron(inputs, xnor_gate_weights, xnor_gate_threshold)\n",
        "    print(f\"Inputs: {inputs}, Output: {output}\")\n"
      ],
      "metadata": {
        "id": "-_8H2oeCV_fM",
        "colab": {
          "base_uri": "https://localhost:8080/"
        },
        "outputId": "a423d514-4063-4318-d756-f930f7605306"
      },
      "execution_count": 24,
      "outputs": [
        {
          "output_type": "stream",
          "name": "stdout",
          "text": [
            "Inputs: [0], Output: 1\n",
            "Inputs: [1], Output: 0\n"
          ]
        }
      ]
    },
    {
      "cell_type": "code",
      "source": [
        "#AND GATE with 3 inputs and weights\n",
        "def perceptron(x_input, x_weight, threshold):\n",
        "    weighted_sum = 0\n",
        "    for x, w in zip(x_input, x_weight):\n",
        "        weighted_sum += x * w\n",
        "    return step(weighted_sum, threshold)\n",
        "\n",
        "def step(weight_sum, threshold):\n",
        "    weight_sum+=threshold\n",
        "    if weight_sum > 3:\n",
        "        return 1\n",
        "    else:\n",
        "        return 0\n",
        "\n",
        "and_gate_inputs = [\n",
        "    [0, 0, 0],\n",
        "    [0, 0, 1],\n",
        "    [0, 1, 0],\n",
        "    [0, 1, 1],\n",
        "    [1, 0, 0],\n",
        "    [1, 0, 1],\n",
        "    [1, 1, 0],\n",
        "    [1, 1, 1]\n",
        "\n",
        "]\n",
        "\n",
        "and_gate_weights = [1,1,1]\n",
        "and_gate_threshold = 1\n",
        "\n",
        "for inputs in and_gate_inputs:\n",
        "    output = perceptron(inputs, and_gate_weights, and_gate_threshold)\n",
        "    print(f\"Inputs: {inputs}, Output: {output}\")"
      ],
      "metadata": {
        "colab": {
          "base_uri": "https://localhost:8080/"
        },
        "id": "zst7V9qUuLJy",
        "outputId": "ddec0350-4d83-4cb5-cf1f-fc13363a90a3"
      },
      "execution_count": null,
      "outputs": [
        {
          "output_type": "stream",
          "name": "stdout",
          "text": [
            "Inputs: [0, 0, 0], Output: 0\n",
            "Inputs: [0, 0, 1], Output: 0\n",
            "Inputs: [0, 1, 0], Output: 0\n",
            "Inputs: [0, 1, 1], Output: 0\n",
            "Inputs: [1, 0, 0], Output: 0\n",
            "Inputs: [1, 0, 1], Output: 0\n",
            "Inputs: [1, 1, 0], Output: 0\n",
            "Inputs: [1, 1, 1], Output: 1\n"
          ]
        }
      ]
    },
    {
      "cell_type": "markdown",
      "source": [
        "Assignment"
      ],
      "metadata": {
        "id": "_4w7QQ6-0e5f"
      }
    },
    {
      "cell_type": "markdown",
      "source": [
        "1B. Implement Perceptron learning algorithm for classification of following points {P0(-1,-1,-1) , P1(-\n",
        "1,-1,1) , P2(-1,1,-1), P3(-1,1,1) ,P4(1,-1,-1) , P5(1,-1,1) , P6(1,1,-1), P7(1,1,1)} in to two classes:\n",
        "C1={P7 (1,1,1)}\n",
        "C2={ P0(-1,-1,-1), P1(-1,-1,1) , P2(-1,1,-1) , P3(-1,1,1) ,P4(1,-1,-1), P5(1,-1,1) , P6(1,1,-1) }\n"
      ],
      "metadata": {
        "id": "OBQvVdja0THZ"
      }
    },
    {
      "cell_type": "code",
      "source": [
        "import numpy as np\n",
        "import matplotlib.pyplot as plt\n",
        "from mpl_toolkits.mplot3d import Axes3D\n",
        "\n",
        "# Data points\n",
        "points = {\n",
        "    'P0': np.array([-1, -1, -1]),\n",
        "    'P1': np.array([-1, -1, 1]),\n",
        "    'P2': np.array([-1, 1, -1]),\n",
        "    'P3': np.array([-1, 1, 1]),\n",
        "    'P4': np.array([1, -1, -1]),\n",
        "    'P5': np.array([1, -1, 1]),\n",
        "    'P6': np.array([1, 1, -1]),\n",
        "    'P7': np.array([1, 1, 1]),\n",
        "}\n",
        "\n",
        "# Classes\n",
        "C1 = ['P7']\n",
        "C2 = ['P0', 'P1', 'P2', 'P3', 'P4', 'P5', 'P6']\n",
        "\n",
        "# Perceptron learning algorithm\n",
        "def perceptron_learning(data, target_class1, target_class2, learning_rate=0.1, epochs=100):\n",
        "    # Initialize weights and bias\n",
        "    weights = np.zeros(len(data['P0']))\n",
        "    bias = 0\n",
        "\n",
        "    for epoch in range(epochs):\n",
        "        for point_name, point in data.items():\n",
        "            # Assign target class labels\n",
        "            if point_name in target_class1:\n",
        "                target = 1\n",
        "            else:\n",
        "                target = -1\n",
        "\n",
        "            # Compute the dot product\n",
        "            dot_product = np.dot(weights, point) + bias\n",
        "\n",
        "            # Update weights and bias based on the perceptron learning rule\n",
        "            if dot_product * target <= 0:\n",
        "                weights += learning_rate * target * point\n",
        "                bias += learning_rate * target\n",
        "\n",
        "    return weights, bias\n",
        "\n",
        "# Train the perceptron\n",
        "weights, bias = perceptron_learning(points, C1, C2)\n",
        "\n",
        "# Print the learned weights and bias\n",
        "print(\"Learned Weights:\", weights)\n",
        "print(\"Learned Bias:\", bias)"
      ],
      "metadata": {
        "id": "6PfUxBan2wMQ",
        "colab": {
          "base_uri": "https://localhost:8080/"
        },
        "outputId": "61012de2-a635-4126-a632-e1b3deda1360"
      },
      "execution_count": 28,
      "outputs": [
        {
          "output_type": "stream",
          "name": "stdout",
          "text": [
            "Learned Weights: [0.2 0.2 0.2]\n",
            "Learned Bias: -0.20000000000000004\n"
          ]
        }
      ]
    },
    {
      "cell_type": "code",
      "source": [
        "# Plotting the points\n",
        "fig = plt.figure()\n",
        "ax = fig.add_subplot(111, projection='3d')\n",
        "\n",
        "for point_name, point in points.items():\n",
        "    if point_name in C1:\n",
        "        ax.scatter(point[0], point[1], point[2], c='red', marker='o', label='C1')\n",
        "    else:\n",
        "        ax.scatter(point[0], point[1], point[2], c='blue', marker='x', label='C2')\n",
        "\n",
        "# Plotting the separating hyperplane\n",
        "x_vals = np.linspace(-2, 2, 50)\n",
        "y_vals = np.linspace(-2, 2, 50)\n",
        "x_vals, y_vals = np.meshgrid(x_vals, y_vals)\n",
        "z_vals = -(weights[0] * x_vals + weights[1] * y_vals + bias) / weights[2]\n",
        "\n",
        "ax.plot_surface(x_vals, y_vals, z_vals, alpha=0.5, color='gray')\n",
        "\n",
        "ax.set_xlabel('X')\n",
        "ax.set_ylabel('Y')\n",
        "ax.set_zlabel('Z')\n",
        "ax.legend()\n",
        "plt.show()\n"
      ],
      "metadata": {
        "colab": {
          "base_uri": "https://localhost:8080/",
          "height": 415
        },
        "id": "Cvmqf-kG1LqS",
        "outputId": "8ca75fda-5170-4132-d779-4c51239fb4bc"
      },
      "execution_count": 29,
      "outputs": [
        {
          "output_type": "display_data",
          "data": {
            "text/plain": [
              "<Figure size 640x480 with 1 Axes>"
            ],
            "image/png": "[encoded data removed]"
          },
          "metadata": {}
        }
      ]
    },
    {
      "cell_type": "markdown",
      "source": [
        "1C.Write a python program to find the number of linearly separable problems out of total binary\n",
        "classification problems on {P0(-1,-1,-1), P1(-1,-1,1) , P2(-1,1,-1) , P3(-1,1,1) ,P4(1,-1,-1), P5(1,-1,1) ,\n",
        "P6(1,1,-1) , P7(1,1,1) }."
      ],
      "metadata": {
        "id": "1j6qPfJE1jgR"
      }
    },
    {
      "cell_type": "code",
      "source": [
        "import numpy as np\n",
        "\n",
        "# Data points\n",
        "points = {\n",
        "    'P0': np.array([-1, -1, -1]),\n",
        "    'P1': np.array([-1, -1, 1]),\n",
        "    'P2': np.array([-1, 1, -1]),\n",
        "    'P3': np.array([-1, 1, 1]),\n",
        "    'P4': np.array([1, -1, -1]),\n",
        "    'P5': np.array([1, -1, 1]),\n",
        "    'P6': np.array([1, 1, -1]),\n",
        "    'P7': np.array([1, 1, 1]),\n",
        "}\n",
        "\n",
        "# Generate all possible combinations of two classes\n",
        "class_combinations = []\n",
        "for i in range(1, 8):\n",
        "    for j in range(i + 1, 8):\n",
        "        class_combinations.append((list(points.keys())[i], list(points.keys())[j]))\n",
        "\n",
        "# Perceptron learning algorithm\n",
        "def perceptron_learning(data, target_class1, target_class2, learning_rate=0.1, epochs=100):\n",
        "    # Initialize weights and bias\n",
        "    weights = np.zeros(len(data['P0']))\n",
        "    bias = 0\n",
        "\n",
        "    for epoch in range(epochs):\n",
        "        converged = True\n",
        "        for point_name, point in data.items():\n",
        "            # Assign target class labels\n",
        "            if point_name in target_class1:\n",
        "                target = 1\n",
        "            else:\n",
        "                target = -1\n",
        "\n",
        "            # Compute the dot product\n",
        "            dot_product = np.dot(weights, point) + bias\n",
        "\n",
        "            # Update weights and bias based on the perceptron learning rule\n",
        "            if dot_product * target <= 0:\n",
        "                weights += learning_rate * target * point\n",
        "                bias += learning_rate * target\n",
        "                converged = False\n",
        "\n",
        "        if converged:\n",
        "            break\n",
        "\n",
        "    return converged\n",
        "\n",
        "# Count the number of linearly separable problems\n",
        "linearly_separable_count = 0\n",
        "for combination in class_combinations:\n",
        "    class1, class2 = combination\n",
        "    if perceptron_learning(points, [class1], [class2]):\n",
        "        linearly_separable_count += 1\n",
        "\n",
        "total_problems = len(class_combinations)\n",
        "print(f\"Total Binary Classification Problems: {total_problems}\")\n",
        "print(f\"Number of Linearly Separable Problems: {linearly_separable_count}\")\n"
      ],
      "metadata": {
        "colab": {
          "base_uri": "https://localhost:8080/"
        },
        "id": "Pt2d5aSn23cx",
        "outputId": "77f72912-b1e0-4be4-fbbb-95556a869d4e"
      },
      "execution_count": 30,
      "outputs": [
        {
          "output_type": "stream",
          "name": "stdout",
          "text": [
            "Total Binary Classification Problems: 21\n",
            "Number of Linearly Separable Problems: 21\n"
          ]
        }
      ]
    },
    {
      "cell_type": "code",
      "source": [],
      "metadata": {
        "id": "FbmCoFbf24WR"
      },
      "execution_count": null,
      "outputs": []
    }
  ]
}